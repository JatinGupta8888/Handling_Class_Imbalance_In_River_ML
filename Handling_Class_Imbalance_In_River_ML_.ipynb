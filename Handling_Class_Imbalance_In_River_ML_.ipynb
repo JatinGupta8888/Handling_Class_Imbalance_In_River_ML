{
  "nbformat": 4,
  "nbformat_minor": 0,
  "metadata": {
    "colab": {
      "provenance": []
    },
    "kernelspec": {
      "name": "python3",
      "display_name": "Python 3"
    },
    "language_info": {
      "name": "python"
    }
  },
  "cells": [
    {
      "cell_type": "code",
      "execution_count": 2,
      "metadata": {
        "colab": {
          "base_uri": "https://localhost:8080/"
        },
        "id": "zQsz4F8dMPPW",
        "outputId": "35f7f05e-d7d3-4d9b-a86d-2b917e795361"
      },
      "outputs": [
        {
          "output_type": "stream",
          "name": "stdout",
          "text": [
            "Collecting river\n",
            "  Downloading river-0.22.0-cp310-cp310-manylinux_2_17_x86_64.manylinux2014_x86_64.whl.metadata (9.0 kB)\n",
            "Requirement already satisfied: numpy>=1.23.0 in /usr/local/lib/python3.10/dist-packages (from river) (1.26.4)\n",
            "Collecting pandas<3.0.0,>=2.2.3 (from river)\n",
            "  Downloading pandas-2.2.3-cp310-cp310-manylinux_2_17_x86_64.manylinux2014_x86_64.whl.metadata (89 kB)\n",
            "\u001b[2K     \u001b[90m━━━━━━━━━━━━━━━━━━━━━━━━━━━━━━━━━━━━━━━━\u001b[0m \u001b[32m89.9/89.9 kB\u001b[0m \u001b[31m2.5 MB/s\u001b[0m eta \u001b[36m0:00:00\u001b[0m\n",
            "\u001b[?25hCollecting scipy<2.0.0,>=1.14.1 (from river)\n",
            "  Downloading scipy-1.15.1-cp310-cp310-manylinux_2_17_x86_64.manylinux2014_x86_64.whl.metadata (61 kB)\n",
            "\u001b[2K     \u001b[90m━━━━━━━━━━━━━━━━━━━━━━━━━━━━━━━━━━━━━━━━\u001b[0m \u001b[32m62.0/62.0 kB\u001b[0m \u001b[31m4.4 MB/s\u001b[0m eta \u001b[36m0:00:00\u001b[0m\n",
            "\u001b[?25hRequirement already satisfied: python-dateutil>=2.8.2 in /usr/local/lib/python3.10/dist-packages (from pandas<3.0.0,>=2.2.3->river) (2.8.2)\n",
            "Requirement already satisfied: pytz>=2020.1 in /usr/local/lib/python3.10/dist-packages (from pandas<3.0.0,>=2.2.3->river) (2024.2)\n",
            "Requirement already satisfied: tzdata>=2022.7 in /usr/local/lib/python3.10/dist-packages (from pandas<3.0.0,>=2.2.3->river) (2024.2)\n",
            "Requirement already satisfied: six>=1.5 in /usr/local/lib/python3.10/dist-packages (from python-dateutil>=2.8.2->pandas<3.0.0,>=2.2.3->river) (1.17.0)\n",
            "Downloading river-0.22.0-cp310-cp310-manylinux_2_17_x86_64.manylinux2014_x86_64.whl (3.1 MB)\n",
            "\u001b[2K   \u001b[90m━━━━━━━━━━━━━━━━━━━━━━━━━━━━━━━━━━━━━━━━\u001b[0m \u001b[32m3.1/3.1 MB\u001b[0m \u001b[31m35.9 MB/s\u001b[0m eta \u001b[36m0:00:00\u001b[0m\n",
            "\u001b[?25hDownloading pandas-2.2.3-cp310-cp310-manylinux_2_17_x86_64.manylinux2014_x86_64.whl (13.1 MB)\n",
            "\u001b[2K   \u001b[90m━━━━━━━━━━━━━━━━━━━━━━━━━━━━━━━━━━━━━━━━\u001b[0m \u001b[32m13.1/13.1 MB\u001b[0m \u001b[31m62.0 MB/s\u001b[0m eta \u001b[36m0:00:00\u001b[0m\n",
            "\u001b[?25hDownloading scipy-1.15.1-cp310-cp310-manylinux_2_17_x86_64.manylinux2014_x86_64.whl (40.6 MB)\n",
            "\u001b[2K   \u001b[90m━━━━━━━━━━━━━━━━━━━━━━━━━━━━━━━━━━━━━━━━\u001b[0m \u001b[32m40.6/40.6 MB\u001b[0m \u001b[31m11.4 MB/s\u001b[0m eta \u001b[36m0:00:00\u001b[0m\n",
            "\u001b[?25hInstalling collected packages: scipy, pandas, river\n",
            "  Attempting uninstall: scipy\n",
            "    Found existing installation: scipy 1.13.1\n",
            "    Uninstalling scipy-1.13.1:\n",
            "      Successfully uninstalled scipy-1.13.1\n",
            "  Attempting uninstall: pandas\n",
            "    Found existing installation: pandas 2.2.2\n",
            "    Uninstalling pandas-2.2.2:\n",
            "      Successfully uninstalled pandas-2.2.2\n",
            "\u001b[31mERROR: pip's dependency resolver does not currently take into account all the packages that are installed. This behaviour is the source of the following dependency conflicts.\n",
            "cudf-cu12 24.10.1 requires pandas<2.2.3dev0,>=2.0, but you have pandas 2.2.3 which is incompatible.\n",
            "gensim 4.3.3 requires scipy<1.14.0,>=1.7.0, but you have scipy 1.15.1 which is incompatible.\n",
            "google-colab 1.0.0 requires pandas==2.2.2, but you have pandas 2.2.3 which is incompatible.\u001b[0m\u001b[31m\n",
            "\u001b[0mSuccessfully installed pandas-2.2.3 river-0.22.0 scipy-1.15.1\n"
          ]
        }
      ],
      "source": [
        "pip install river"
      ]
    },
    {
      "cell_type": "code",
      "source": [
        "import collections\n",
        "from river import datasets\n",
        "import pandas as pd\n",
        "from river import stream\n",
        "from river import compose\n",
        "from river import metrics\n",
        "from river import preprocessing\n",
        "from river import linear_model\n",
        "from river import optim\n",
        "from river import imblearn\n",
        "\n"
      ],
      "metadata": {
        "id": "kqcNdiKZM6lK"
      },
      "execution_count": 3,
      "outputs": []
    },
    {
      "cell_type": "code",
      "source": [
        "data = pd.read_csv('surge_data.csv')"
      ],
      "metadata": {
        "id": "7RUhh_DMM6ns"
      },
      "execution_count": 5,
      "outputs": []
    },
    {
      "cell_type": "code",
      "source": [
        "X = data[['voltage', 'current', 'power_consumption']]\n",
        "y = data['flag']"
      ],
      "metadata": {
        "id": "d5hNeyWzM6qw"
      },
      "execution_count": 6,
      "outputs": []
    },
    {
      "cell_type": "code",
      "source": [
        "metric = metrics.ROCAUC()"
      ],
      "metadata": {
        "id": "bzlbvEIKvCEa"
      },
      "execution_count": 8,
      "outputs": []
    },
    {
      "cell_type": "code",
      "source": [
        "confusion_matrix_metric = metrics.ConfusionMatrix()"
      ],
      "metadata": {
        "id": "QkRBrbZTvF_F"
      },
      "execution_count": 9,
      "outputs": []
    },
    {
      "cell_type": "markdown",
      "source": [
        "## Model (Logistic Regression)"
      ],
      "metadata": {
        "id": "VYr8qECkgSaF"
      }
    },
    {
      "cell_type": "code",
      "source": [
        "model = compose.Pipeline(\n",
        "    ('scaler', preprocessing.StandardScaler()),\n",
        "    ('classifier', linear_model.LogisticRegression())\n",
        ")"
      ],
      "metadata": {
        "id": "i8a5riOvgRyD"
      },
      "execution_count": 10,
      "outputs": []
    },
    {
      "cell_type": "code",
      "source": [
        "for xi, yi in zip(X.to_dict(orient='records'), y):\n",
        "    y_pred = model.predict_one(xi)\n",
        "    model.learn_one(xi, yi)\n",
        "    metric.update(yi, y_pred)\n",
        "    confusion_matrix_metric.update(yi, y_pred)"
      ],
      "metadata": {
        "id": "6ShhrYxXu2On"
      },
      "execution_count": 11,
      "outputs": []
    },
    {
      "cell_type": "code",
      "source": [
        "print(f'Final accuracy: {metric}')\n",
        "print(\"Confusion Matrix:\")\n",
        "print(confusion_matrix_metric)"
      ],
      "metadata": {
        "colab": {
          "base_uri": "https://localhost:8080/"
        },
        "id": "avRroo6mu2ac",
        "outputId": "9581f6b6-70c0-4aea-e1db-90e1824d44df"
      },
      "execution_count": 12,
      "outputs": [
        {
          "output_type": "stream",
          "name": "stdout",
          "text": [
            "Final accuracy: ROCAUC: 49.99%\n",
            "Confusion Matrix:\n",
            "      0.0     1.0  \n",
            "0.0   9,930     1  \n",
            "1.0      69     0  \n"
          ]
        }
      ]
    },
    {
      "cell_type": "markdown",
      "source": [
        "## Importance weighting"
      ],
      "metadata": {
        "id": "Gz-uahBjV5yF"
      }
    },
    {
      "cell_type": "code",
      "source": [
        "model1 = compose.Pipeline(\n",
        "    ('scaler', preprocessing.StandardScaler()),\n",
        "    ('classifier', linear_model.LogisticRegression(loss=optim.losses.Log(weight_pos=5)))\n",
        ")"
      ],
      "metadata": {
        "id": "BpSMp_zuM6vw"
      },
      "execution_count": 13,
      "outputs": []
    },
    {
      "cell_type": "code",
      "source": [
        "metric = metrics.ROCAUC()"
      ],
      "metadata": {
        "id": "sq1NnW8dvl1s"
      },
      "execution_count": 17,
      "outputs": []
    },
    {
      "cell_type": "code",
      "source": [
        "confusion_matrix_metric = metrics.ConfusionMatrix()"
      ],
      "metadata": {
        "id": "IKzaFUy3vl4Z"
      },
      "execution_count": 18,
      "outputs": []
    },
    {
      "cell_type": "code",
      "source": [
        "for xi, yi in zip(X.to_dict(orient='records'), y):\n",
        "    y_pred = model1.predict_one(xi)\n",
        "    model1.learn_one(xi, yi)\n",
        "    metric.update(yi, y_pred)\n",
        "    confusion_matrix_metric.update(yi, y_pred)"
      ],
      "metadata": {
        "id": "nO6tn_Usu52w"
      },
      "execution_count": 19,
      "outputs": []
    },
    {
      "cell_type": "code",
      "source": [
        "print(f'Final accuracy: {metric}')\n",
        "print(\"Confusion Matrix:\")\n",
        "print(confusion_matrix_metric)"
      ],
      "metadata": {
        "colab": {
          "base_uri": "https://localhost:8080/"
        },
        "id": "OERfToKQu55d",
        "outputId": "ae980b23-62e3-47c0-e539-e987630cc7f0"
      },
      "execution_count": 20,
      "outputs": [
        {
          "output_type": "stream",
          "name": "stdout",
          "text": [
            "Final accuracy: ROCAUC: 85.48%\n",
            "Confusion Matrix:\n",
            "      0.0     1.0  \n",
            "0.0   9,925     6  \n",
            "1.0      20    49  \n"
          ]
        }
      ]
    },
    {
      "cell_type": "markdown",
      "source": [
        "## Focal loss"
      ],
      "metadata": {
        "id": "-wuiVCIbV9Fu"
      }
    },
    {
      "cell_type": "code",
      "source": [
        "model3 = compose.Pipeline(\n",
        "    ('scaler', preprocessing.StandardScaler()),\n",
        "    ('classifier', linear_model.LogisticRegression(loss=optim.losses.BinaryFocalLoss(2, 1)))\n",
        ")"
      ],
      "metadata": {
        "id": "ynE_And6Uhh2"
      },
      "execution_count": 21,
      "outputs": []
    },
    {
      "cell_type": "code",
      "source": [
        "metric = metrics.ROCAUC()"
      ],
      "metadata": {
        "id": "ikavb28iu72Y"
      },
      "execution_count": 22,
      "outputs": []
    },
    {
      "cell_type": "code",
      "source": [
        "confusion_matrix_metric = metrics.ConfusionMatrix()"
      ],
      "metadata": {
        "id": "s1KTh-OPu746"
      },
      "execution_count": 23,
      "outputs": []
    },
    {
      "cell_type": "code",
      "source": [
        "for xi, yi in zip(X.to_dict(orient='records'), y):\n",
        "    y_pred = model3.predict_one(xi)\n",
        "    model3.learn_one(xi, yi)\n",
        "    metric.update(yi, y_pred)\n",
        "    confusion_matrix_metric.update(yi, y_pred)"
      ],
      "metadata": {
        "id": "ExGivGWYu79B"
      },
      "execution_count": 24,
      "outputs": []
    },
    {
      "cell_type": "code",
      "source": [
        "print(f'Final accuracy: {metric}')\n",
        "print(\"Confusion Matrix:\")\n",
        "print(confusion_matrix_metric)"
      ],
      "metadata": {
        "colab": {
          "base_uri": "https://localhost:8080/"
        },
        "id": "Lo7Rx_ZXv6tc",
        "outputId": "01892fec-aedb-4345-c8b4-a67e1801f9fe"
      },
      "execution_count": 25,
      "outputs": [
        {
          "output_type": "stream",
          "name": "stdout",
          "text": [
            "Final accuracy: ROCAUC: 49.99%\n",
            "Confusion Matrix:\n",
            "      0.0     1.0  \n",
            "0.0   9,930     1  \n",
            "1.0      69     0  \n"
          ]
        }
      ]
    },
    {
      "cell_type": "markdown",
      "source": [
        "## Under-sampling the majority class"
      ],
      "metadata": {
        "id": "tPbFsRZ7YqsK"
      }
    },
    {
      "cell_type": "code",
      "source": [
        "model4 = (\n",
        "    preprocessing.StandardScaler() |\n",
        "    imblearn.RandomUnderSampler(\n",
        "        classifier=linear_model.LogisticRegression(),\n",
        "        desired_dist={0: .8, 1: .2},\n",
        "        seed=42\n",
        "    )\n",
        ")\n"
      ],
      "metadata": {
        "id": "TYmd3oS7Ytdy"
      },
      "execution_count": 26,
      "outputs": []
    },
    {
      "cell_type": "code",
      "source": [
        "metric = metrics.ROCAUC()"
      ],
      "metadata": {
        "id": "lvoWtcp0u8hF"
      },
      "execution_count": 27,
      "outputs": []
    },
    {
      "cell_type": "code",
      "source": [
        "confusion_matrix_metric = metrics.ConfusionMatrix()"
      ],
      "metadata": {
        "id": "RQm42iT5u8jx"
      },
      "execution_count": 28,
      "outputs": []
    },
    {
      "cell_type": "code",
      "source": [
        "for xi, yi in zip(X.to_dict(orient='records'), y):\n",
        "    y_pred = model3.predict_one(xi)\n",
        "    model3.learn_one(xi, yi)\n",
        "    metric.update(yi, y_pred)\n",
        "    confusion_matrix_metric.update(yi, y_pred)"
      ],
      "metadata": {
        "id": "mP1RMzrcu8mz"
      },
      "execution_count": 29,
      "outputs": []
    },
    {
      "cell_type": "code",
      "source": [
        "print(f'Final accuracy: {metric}')\n",
        "print(\"Confusion Matrix:\")\n",
        "print(confusion_matrix_metric)"
      ],
      "metadata": {
        "colab": {
          "base_uri": "https://localhost:8080/"
        },
        "id": "SnlafE9dwEul",
        "outputId": "e4fb7542-b5fa-43f3-927b-f6392d3a13b9"
      },
      "execution_count": 30,
      "outputs": [
        {
          "output_type": "stream",
          "name": "stdout",
          "text": [
            "Final accuracy: ROCAUC: 52.90%\n",
            "Confusion Matrix:\n",
            "      0.0     1.0  \n",
            "0.0   9,931     0  \n",
            "1.0      65     4  \n"
          ]
        }
      ]
    },
    {
      "cell_type": "markdown",
      "source": [
        "## Over-sampling the minority class"
      ],
      "metadata": {
        "id": "rIYT8OJNaokk"
      }
    },
    {
      "cell_type": "code",
      "source": [
        "model5 = (\n",
        "    preprocessing.StandardScaler() |\n",
        "    imblearn.RandomOverSampler(\n",
        "        classifier=linear_model.LogisticRegression(),\n",
        "        desired_dist={0: .8, 1: .2},\n",
        "        seed=42\n",
        "    )\n",
        ")"
      ],
      "metadata": {
        "id": "Bkv9nrFqaqdt"
      },
      "execution_count": 31,
      "outputs": []
    },
    {
      "cell_type": "code",
      "source": [
        "metric = metrics.ROCAUC()"
      ],
      "metadata": {
        "id": "PZiTjPOWu9MD"
      },
      "execution_count": 32,
      "outputs": []
    },
    {
      "cell_type": "code",
      "source": [
        "confusion_matrix_metric = metrics.ConfusionMatrix()"
      ],
      "metadata": {
        "id": "0rgvJLUYu9Oe"
      },
      "execution_count": 33,
      "outputs": []
    },
    {
      "cell_type": "code",
      "source": [
        "for xi, yi in zip(X.to_dict(orient='records'), y):\n",
        "    y_pred = model5.predict_one(xi)\n",
        "    model5.learn_one(xi, yi)\n",
        "    metric.update(yi, y_pred)\n",
        "    confusion_matrix_metric.update(yi, y_pred)"
      ],
      "metadata": {
        "id": "_kQqpvILu9Ro"
      },
      "execution_count": 34,
      "outputs": []
    },
    {
      "cell_type": "code",
      "source": [
        "print(f'Final accuracy: {metric}')\n",
        "print(\"Confusion Matrix:\")\n",
        "print(confusion_matrix_metric)"
      ],
      "metadata": {
        "colab": {
          "base_uri": "https://localhost:8080/"
        },
        "id": "VHKRRdWywQ8v",
        "outputId": "72ec2a77-061d-4ded-c853-86a4866bc17d"
      },
      "execution_count": 35,
      "outputs": [
        {
          "output_type": "stream",
          "name": "stdout",
          "text": [
            "Final accuracy: ROCAUC: 97.38%\n",
            "Confusion Matrix:\n",
            "      0.0     1.0  \n",
            "0.0   9,699   232  \n",
            "1.0       2    67  \n"
          ]
        }
      ]
    },
    {
      "cell_type": "markdown",
      "source": [
        "## Sampling with a desired sample size"
      ],
      "metadata": {
        "id": "59wCon0Ca-0M"
      }
    },
    {
      "cell_type": "code",
      "source": [
        "model6 = (\n",
        "    preprocessing.StandardScaler() |\n",
        "    imblearn.RandomSampler(\n",
        "        classifier=linear_model.LogisticRegression(),\n",
        "        desired_dist={0: .8, 1: .2},\n",
        "        sampling_rate=.01,\n",
        "        seed=42\n",
        "    )\n",
        ")\n"
      ],
      "metadata": {
        "id": "NyWsmaYSbAE9"
      },
      "execution_count": 36,
      "outputs": []
    },
    {
      "cell_type": "code",
      "source": [
        "metric = metrics.ROCAUC()"
      ],
      "metadata": {
        "id": "nX8vqq7cu9ta"
      },
      "execution_count": 37,
      "outputs": []
    },
    {
      "cell_type": "code",
      "source": [
        "confusion_matrix_metric = metrics.ConfusionMatrix()"
      ],
      "metadata": {
        "id": "_ttPE8tAu9vx"
      },
      "execution_count": 38,
      "outputs": []
    },
    {
      "cell_type": "code",
      "source": [
        "for xi, yi in zip(X.to_dict(orient='records'), y):\n",
        "    y_pred = model6.predict_one(xi)\n",
        "    model6.learn_one(xi, yi)\n",
        "    metric.update(yi, y_pred)\n",
        "    confusion_matrix_metric.update(yi, y_pred)"
      ],
      "metadata": {
        "id": "O3aaDGGPu9y2"
      },
      "execution_count": 39,
      "outputs": []
    },
    {
      "cell_type": "code",
      "source": [
        "print(f'Final accuracy: {metric}')\n",
        "print(\"Confusion Matrix:\")\n",
        "print(confusion_matrix_metric)"
      ],
      "metadata": {
        "colab": {
          "base_uri": "https://localhost:8080/"
        },
        "id": "UagYsRhewgYj",
        "outputId": "840117f2-9486-48ef-ed8e-94c28cb571c9"
      },
      "execution_count": 40,
      "outputs": [
        {
          "output_type": "stream",
          "name": "stdout",
          "text": [
            "Final accuracy: ROCAUC: 92.08%\n",
            "Confusion Matrix:\n",
            "      0.0     1.0    \n",
            "0.0   8,357   1,574  \n",
            "1.0       0      69  \n"
          ]
        }
      ]
    },
    {
      "cell_type": "markdown",
      "source": [
        "## Hybrid approach"
      ],
      "metadata": {
        "id": "ffLjFT7XbNYS"
      }
    },
    {
      "cell_type": "code",
      "source": [
        "model7 = (\n",
        "    preprocessing.StandardScaler() |\n",
        "    imblearn.RandomUnderSampler(\n",
        "        classifier=linear_model.LogisticRegression(\n",
        "            loss=optim.losses.Log(weight_pos=5)\n",
        "        ),\n",
        "        desired_dist={0: .8, 1: .2},\n",
        "        seed=42\n",
        "    )\n",
        ")"
      ],
      "metadata": {
        "id": "Jp6_hM-vbPxg"
      },
      "execution_count": 41,
      "outputs": []
    },
    {
      "cell_type": "code",
      "source": [
        "metric = metrics.ROCAUC()"
      ],
      "metadata": {
        "id": "7mNQlo2Nu-Ps"
      },
      "execution_count": 42,
      "outputs": []
    },
    {
      "cell_type": "code",
      "source": [
        "confusion_matrix_metric = metrics.ConfusionMatrix()"
      ],
      "metadata": {
        "id": "Db90nWoJu-SD"
      },
      "execution_count": 43,
      "outputs": []
    },
    {
      "cell_type": "code",
      "source": [
        "for xi, yi in zip(X.to_dict(orient='records'), y):\n",
        "    y_pred = model6.predict_one(xi)\n",
        "    model6.learn_one(xi, yi)\n",
        "    metric.update(yi, y_pred)\n",
        "    confusion_matrix_metric.update(yi, y_pred)"
      ],
      "metadata": {
        "id": "sS_VWCTxu-VF"
      },
      "execution_count": 44,
      "outputs": []
    },
    {
      "cell_type": "code",
      "source": [
        "print(f'Final accuracy: {metric}')\n",
        "print(\"Confusion Matrix:\")\n",
        "print(confusion_matrix_metric)"
      ],
      "metadata": {
        "colab": {
          "base_uri": "https://localhost:8080/"
        },
        "id": "PEodARYRwuKR",
        "outputId": "f76f7e95-d341-44d8-8d02-0d38d44fc051"
      },
      "execution_count": 45,
      "outputs": [
        {
          "output_type": "stream",
          "name": "stdout",
          "text": [
            "Final accuracy: ROCAUC: 93.76%\n",
            "Confusion Matrix:\n",
            "      0.0     1.0    \n",
            "0.0   8,692   1,239  \n",
            "1.0       0      69  \n"
          ]
        }
      ]
    },
    {
      "cell_type": "code",
      "source": [],
      "metadata": {
        "id": "tD50616cW6vp"
      },
      "execution_count": null,
      "outputs": []
    },
    {
      "cell_type": "code",
      "source": [],
      "metadata": {
        "id": "K0nv0mkQW6x_"
      },
      "execution_count": null,
      "outputs": []
    },
    {
      "cell_type": "code",
      "source": [],
      "metadata": {
        "id": "zmhN0yP9W60l"
      },
      "execution_count": null,
      "outputs": []
    },
    {
      "cell_type": "code",
      "source": [],
      "metadata": {
        "id": "bdKL4zAFW628"
      },
      "execution_count": null,
      "outputs": []
    },
    {
      "cell_type": "code",
      "source": [],
      "metadata": {
        "id": "ptmXesSgW676"
      },
      "execution_count": null,
      "outputs": []
    }
  ]
}